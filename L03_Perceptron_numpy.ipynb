{
  "nbformat": 4,
  "nbformat_minor": 0,
  "metadata": {
    "colab": {
      "name": "L03-Perceptron-numpy.ipynb",
      "provenance": [],
      "authorship_tag": "ABX9TyPR71urgzArcRBgfDHUoctB",
      "include_colab_link": true
    },
    "kernelspec": {
      "name": "python3",
      "display_name": "Python 3"
    },
    "language_info": {
      "name": "python"
    }
  },
  "cells": [
    {
      "cell_type": "markdown",
      "metadata": {
        "id": "view-in-github",
        "colab_type": "text"
      },
      "source": [
        "<a href=\"https://colab.research.google.com/github/Zaine-eng/Curso-Deep-Learning/blob/main/L03_Perceptron_numpy.ipynb\" target=\"_parent\"><img src=\"https://colab.research.google.com/assets/colab-badge.svg\" alt=\"Open In Colab\"/></a>"
      ]
    },
    {
      "cell_type": "markdown",
      "source": [
        "# **1. L03 - Perceptrons**"
      ],
      "metadata": {
        "id": "gOFKrpEnR-Uk"
      }
    },
    {
      "cell_type": "markdown",
      "source": [
        "implementation of the classic perceptrom by Frank Roserblatt for binary classification(there: 0/1 class labels)"
      ],
      "metadata": {
        "id": "kS8hpH9PSQbh"
      }
    },
    {
      "cell_type": "code",
      "execution_count": 6,
      "metadata": {
        "id": "1aDe2Q3EQM-c"
      },
      "outputs": [],
      "source": [
        "import pandas as pd\n",
        "import numpy as np\n",
        "import matplotlib.pyplot as plt\n",
        "%matplotlib inline\n"
      ]
    },
    {
      "cell_type": "markdown",
      "source": [
        "*Attention, you should always indicate the database path before executing the codes.*"
      ],
      "metadata": {
        "id": "yted5V5wxPtX"
      }
    },
    {
      "cell_type": "markdown",
      "source": [
        "## **1.1 Preparing a dataset**"
      ],
      "metadata": {
        "id": "bD3kfoC9vGMc"
      }
    },
    {
      "cell_type": "code",
      "source": [
        "# DATASET \n",
        "data01 = pd.read_excel('/content/Deep Learning - L03 O Perceptron- data.xlsx')\n",
        "data01.info()\n",
        "\n"
      ],
      "metadata": {
        "colab": {
          "base_uri": "https://localhost:8080/"
        },
        "id": "0gzebux4TQtz",
        "outputId": "ac4926e4-213d-4a58-f8ff-873b54215c98"
      },
      "execution_count": 29,
      "outputs": [
        {
          "output_type": "stream",
          "name": "stdout",
          "text": [
            "<class 'pandas.core.frame.DataFrame'>\n",
            "RangeIndex: 100 entries, 0 to 99\n",
            "Data columns (total 3 columns):\n",
            " #   Column  Non-Null Count  Dtype  \n",
            "---  ------  --------------  -----  \n",
            " 0   x1      100 non-null    float64\n",
            " 1   x2      100 non-null    float64\n",
            " 2   y       100 non-null    int64  \n",
            "dtypes: float64(2), int64(1)\n",
            "memory usage: 2.5 KB\n"
          ]
        }
      ]
    },
    {
      "cell_type": "code",
      "source": [
        "data = np.asarray(data01)"
      ],
      "metadata": {
        "id": "Kb4CbXgQZAdZ"
      },
      "execution_count": 28,
      "outputs": []
    },
    {
      "cell_type": "code",
      "source": [
        "x = data[:, :2]\n",
        "y = data[:, 2]\n",
        "y = y.astype(np.int)\n",
        "\n",
        "print('Class label counts:', np.bincount(y))\n",
        "print('x.shape:', x.shape)\n",
        "print('y.shape:', y.shape)"
      ],
      "metadata": {
        "colab": {
          "base_uri": "https://localhost:8080/"
        },
        "id": "tQRrL2DMZ3vq",
        "outputId": "c99e2629-a525-4751-c301-b2c57574e427"
      },
      "execution_count": 63,
      "outputs": [
        {
          "output_type": "stream",
          "name": "stdout",
          "text": [
            "Class label counts: [50 50]\n",
            "x.shape: (100, 2)\n",
            "y.shape: (100,)\n"
          ]
        },
        {
          "output_type": "stream",
          "name": "stderr",
          "text": [
            "/usr/local/lib/python3.7/dist-packages/ipykernel_launcher.py:3: DeprecationWarning: `np.int` is a deprecated alias for the builtin `int`. To silence this warning, use `int` by itself. Doing this will not modify any behavior and is safe. When replacing `np.int`, you may wish to use e.g. `np.int64` or `np.int32` to specify the precision. If you wish to review your current use, check the release note link for additional information.\n",
            "Deprecated in NumPy 1.20; for more details and guidance: https://numpy.org/devdocs/release/1.20.0-notes.html#deprecations\n",
            "  This is separate from the ipykernel package so we can avoid doing imports until\n"
          ]
        }
      ]
    },
    {
      "cell_type": "markdown",
      "source": [
        "*shuffle() is a built-in method of the random module.\n",
        "It is used to shuffle a sequence (list). To shuffle means to change the position of the elements of the sequence.*"
      ],
      "metadata": {
        "id": "1TUdof7s03Hh"
      }
    },
    {
      "cell_type": "code",
      "source": [
        "# shuffling & train/test split \n",
        "shuffle_idx = np.arange(y.shape[0])\n",
        "shuffle_rng = np.random.RandomState(123)\n",
        "shuffle_rng.shuffle(shuffle_idx)\n",
        "x, y = x[shuffle_idx], y[shuffle_idx]\n",
        "\n",
        "x_train = x[shuffle_idx[:70]]\n",
        "x_test = x[shuffle_idx[70:]]\n",
        "y_train = y[shuffle_idx[:70]]\n",
        "y_test = y[shuffle_idx[70:]]\n",
        "\n",
        "# Normalize (mean zero, unit variance)\n",
        "mu = x_train.mean(axis=0)\n",
        "sigma = x_train.std(axis=0)\n",
        "x_train = (x_train - mu) / sigma\n",
        "x_test = (x_test -mu) / sigma"
      ],
      "metadata": {
        "id": "QXh0SxxVdET0"
      },
      "execution_count": 64,
      "outputs": []
    },
    {
      "cell_type": "code",
      "source": [
        "plt.scatter(x_train[y_train==0, 0], x_train[y_train==0,1], label = 'class 0', marker ='o')\n",
        "plt.scatter(x_train[y_train==1, 0], x_train[y_train==1,1], label = 'class 1', marker ='s')\n",
        "plt.title('Training set')\n",
        "plt.xlabel('feature 1')\n",
        "plt.ylabel('feature 2')\n",
        "plt.xlim([-3, 3])\n",
        "plt.ylim([-3, 3])\n",
        "plt.legend()\n",
        "plt.show()"
      ],
      "metadata": {
        "colab": {
          "base_uri": "https://localhost:8080/",
          "height": 295
        },
        "id": "ar1SLjZOh02l",
        "outputId": "2a0977aa-4bb5-42e8-aba0-cbee980e20c2"
      },
      "execution_count": 65,
      "outputs": [
        {
          "output_type": "display_data",
          "data": {
            "text/plain": [
              "<Figure size 432x288 with 1 Axes>"
            ],
            "image/png": "[encoded data removed]"
          },
          "metadata": {
            "needs_background": "light"
          }
        }
      ]
    },
    {
      "cell_type": "code",
      "source": [
        "plt.scatter(x_test[y_test==0, 0], x_test[y_test==0, 1], label='class 0', marker='o')\n",
        "plt.scatter(x_test[y_test==1, 0], x_test[y_test==1, 1], label='class 1', marker='s')\n",
        "plt.title('Test set')\n",
        "plt.xlabel('feature 1')\n",
        "plt.ylabel('feature 2')\n",
        "plt.xlim([-3, 3])\n",
        "plt.ylim([-3, 3])\n",
        "plt.legend()\n",
        "plt.show()"
      ],
      "metadata": {
        "colab": {
          "base_uri": "https://localhost:8080/",
          "height": 295
        },
        "id": "5uDxlbmklTL1",
        "outputId": "5e9043d6-75d4-42c3-c66d-4a3d380e0bb8"
      },
      "execution_count": 66,
      "outputs": [
        {
          "output_type": "display_data",
          "data": {
            "text/plain": [
              "<Figure size 432x288 with 1 Axes>"
            ],
            "image/png": "[encoded data removed]"
          },
          "metadata": {
            "needs_background": "light"
          }
        }
      ]
    },
    {
      "cell_type": "markdown",
      "source": [
        "# **2. Defining the Perceptron model**"
      ],
      "metadata": {
        "id": "mnt8yKf3owGE"
      }
    },
    {
      "cell_type": "code",
      "source": [
        "class Perceptron():\n",
        "    def __init__(self, num_features):\n",
        "        self.num_features = num_features\n",
        "        self.weights = np.zeros((num_features, 1), dtype=np.float)\n",
        "        self.bias = np.zeros(1, dtype=np.float)\n",
        "\n",
        "    def forward(self, x):\n",
        "        linear = np.dot(x, self.weights) + self.bias\n",
        "        predictions = np.where(linear > 0., 1, 0)\n",
        "        return predictions\n",
        "        \n",
        "    def backward(self, x, y):  \n",
        "        predictions = self.forward(x)\n",
        "        errors = y - predictions\n",
        "        return errors\n",
        "        \n",
        "    def train(self, x, y, epochs):\n",
        "        for e in range(epochs):\n",
        "            \n",
        "            for i in range(y.shape[0]):\n",
        "                errors = self.backward(x[i].reshape(1, self.num_features), y[i]).reshape(-1)\n",
        "                self.weights += (errors * x[i]).reshape(self.num_features, 1)\n",
        "                self.bias += errors\n",
        "                \n",
        "    def evaluate(self, x, y):\n",
        "        predictions = self.forward(x).reshape(-1)\n",
        "        accuracy = np.sum(predictions == y) / y.shape[0]\n",
        "        return accuracy\n"
      ],
      "metadata": {
        "id": "TYkmcBfcoebW"
      },
      "execution_count": 67,
      "outputs": []
    },
    {
      "cell_type": "markdown",
      "source": [
        "# **3. Training the Perceptron**"
      ],
      "metadata": {
        "id": "MX7rykMEs6wG"
      }
    },
    {
      "cell_type": "code",
      "source": [
        "ppn = Perceptron(num_features=2)\n",
        "\n",
        "ppn.train(x_train, y_train, epochs=5)\n",
        "\n",
        "print('Model parameters:\\n\\n')\n",
        "print('  Weights: %s\\n' % ppn.weights)\n",
        "print('  Bias: %s\\n' % ppn.bias)"
      ],
      "metadata": {
        "colab": {
          "base_uri": "https://localhost:8080/"
        },
        "id": "WEiLZWJ9tHM1",
        "outputId": "0eab186a-d297-4a45-e205-119712dff018"
      },
      "execution_count": 68,
      "outputs": [
        {
          "output_type": "stream",
          "name": "stdout",
          "text": [
            "Model parameters:\n",
            "\n",
            "\n",
            "  Weights: [[1.27340847]\n",
            " [1.34642288]]\n",
            "\n",
            "  Bias: [-1.]\n",
            "\n"
          ]
        },
        {
          "output_type": "stream",
          "name": "stderr",
          "text": [
            "/usr/local/lib/python3.7/dist-packages/ipykernel_launcher.py:4: DeprecationWarning: `np.float` is a deprecated alias for the builtin `float`. To silence this warning, use `float` by itself. Doing this will not modify any behavior and is safe. If you specifically wanted the numpy scalar type, use `np.float64` here.\n",
            "Deprecated in NumPy 1.20; for more details and guidance: https://numpy.org/devdocs/release/1.20.0-notes.html#deprecations\n",
            "  after removing the cwd from sys.path.\n",
            "/usr/local/lib/python3.7/dist-packages/ipykernel_launcher.py:5: DeprecationWarning: `np.float` is a deprecated alias for the builtin `float`. To silence this warning, use `float` by itself. Doing this will not modify any behavior and is safe. If you specifically wanted the numpy scalar type, use `np.float64` here.\n",
            "Deprecated in NumPy 1.20; for more details and guidance: https://numpy.org/devdocs/release/1.20.0-notes.html#deprecations\n",
            "  \"\"\"\n"
          ]
        }
      ]
    },
    {
      "cell_type": "markdown",
      "source": [
        "# **4. Evaluating the model**"
      ],
      "metadata": {
        "id": "f1F9CX5-vvu_"
      }
    },
    {
      "cell_type": "code",
      "source": [
        "test_acc = ppn.evaluate(x_test, y_test)\n",
        "print('Test set accuracy: %.2f%%' % (test_acc*100))"
      ],
      "metadata": {
        "colab": {
          "base_uri": "https://localhost:8080/"
        },
        "id": "Qjg8eg9-tIJ-",
        "outputId": "65758c0d-5ec5-4ad7-80b1-5910dc8a8415"
      },
      "execution_count": 69,
      "outputs": [
        {
          "output_type": "stream",
          "name": "stdout",
          "text": [
            "Test set accuracy: 93.33%\n"
          ]
        }
      ]
    },
    {
      "cell_type": "code",
      "source": [
        "\n",
        "# 2D Decision Boundary\n",
        "\n",
        "w, b = ppn.weights, ppn.bias\n",
        "\n",
        "x_min = -2\n",
        "y_min = ( (-(w[0] * x_min) - b[0]) \n",
        "          / w[1] )\n",
        "\n",
        "x_max = 2\n",
        "y_max = ( (-(w[0] * x_max) - b[0]) \n",
        "          / w[1] )\n",
        "\n",
        "\n",
        "fig, ax = plt.subplots(1, 2, sharex=True, figsize=(7, 3))\n",
        "\n",
        "ax[0].plot([x_min, x_max], [y_min, y_max])\n",
        "ax[1].plot([x_min, x_max], [y_min, y_max])\n",
        "\n",
        "ax[0].scatter(x_train[y_train==0, 0], x_train[y_train==0, 1], label='class 0', marker='o')\n",
        "ax[0].scatter(x_train[y_train==1, 0], x_train[y_train==1, 1], label='class 1', marker='s')\n",
        "\n",
        "ax[1].scatter(x_test[y_test==0, 0], x_test[y_test==0, 1], label='class 0', marker='o')\n",
        "ax[1].scatter(x_test[y_test==1, 0], x_test[y_test==1, 1], label='class 1', marker='s')\n",
        "\n",
        "ax[1].legend(loc='upper left')\n",
        "plt.show()"
      ],
      "metadata": {
        "colab": {
          "base_uri": "https://localhost:8080/",
          "height": 211
        },
        "id": "BQ6mzhLWtM05",
        "outputId": "b7171e02-1581-4698-f93c-f66b97115ebc"
      },
      "execution_count": 70,
      "outputs": [
        {
          "output_type": "display_data",
          "data": {
            "text/plain": [
              "<Figure size 504x216 with 2 Axes>"
            ],
            "image/png": "[encoded data removed]"
          },
          "metadata": {
            "needs_background": "light"
          }
        }
      ]
    }
  ]
}